{
  "nbformat": 4,
  "nbformat_minor": 0,
  "metadata": {
    "colab": {
      "provenance": []
    },
    "kernelspec": {
      "name": "python3",
      "display_name": "Python 3"
    },
    "language_info": {
      "name": "python"
    }
  },
  "cells": [
    {
      "cell_type": "markdown",
      "source": [
        "**ST207 Summative Assessment 2**\n",
        "\n",
        "Candidate Number: 45608"
      ],
      "metadata": {
        "id": "PpBPcVyLJj4_"
      }
    },
    {
      "cell_type": "markdown",
      "source": [
        "MiniWorld Description: LIBRARY database \n",
        "\n",
        "Consider a library database in which the library records information about customers who borrow books (i.e loans made by the library), books the library stores, loans made, authors, publishers, and fines associated with the loans. The data requirements are summarized as follows:\n",
        "\n",
        "*  The library has customers which are members of the library, each of whom is identified by a unique customer number and is described by their first name, last name, phone number, email ID, and address\n",
        "* The library contains various books which are identified by a unique book number, the title of the book, the author ID, publisher ID, ISBN number, and genre \n",
        "* The authors are identified by their unique author number, first name, and last name \n",
        "*   The publishers are identified by their unique publisher number, first name, last name, year published, and book ID\n",
        "*   Loans are created when customers borrow books which are identified by a unique loan number, the date the book was borrowed and is due, the customer who borrowed the book, the book that was borrowed, and the fine associated with the loan, if any"
      ],
      "metadata": {
        "id": "qbh9Q4oOjIG7"
      }
    },
    {
      "cell_type": "markdown",
      "source": [
        "Description of entities and attributes \n",
        "\n",
        "The baseline conceptual model should contain the following <entity;attributes>;\n",
        "\n",
        "1. <customers; Customer_ID (PK), First_Name, Last_Name, Phone_Number, Email_ID, Address>\n",
        "2. <authors; Author_ID (PK), First_Name, Last_Name>\n",
        "3. <publishers; Publisher_ID (PK), Publisher_Name, Year_Published>\n",
        "4. <books; Book_ID (PK), Title, Author_ID (FK), Publisher_ID (FK), ISBN_Number, Genre>\n",
        "5. <loans; Loan_ID (PK), Borrowed_Date, Due_Date, Borrower_ID (FK), Book_ID (FK), Fine>"
      ],
      "metadata": {
        "id": "0t0nOF63moxT"
      }
    },
    {
      "cell_type": "markdown",
      "source": [
        "Description and correct mapping of all relationships \n",
        "\n",
        "The minimum conceptual model should have the following relationships and cardinalities\n",
        "\n",
        "1. Each customer makes zero or many (0, N) loans\n",
        "2. Each loan can have one and only one (1, 1) customer \n",
        "3. Each loan made can have one and only one (1, 1) book \n",
        "4. Each book can have zero or many (0, N) loans\n",
        "5. Each book can have one and only one (1, 1) author \n",
        "6. Each author can have one or many (1, N) books\n",
        "7. Each book can have one and only one (1, 1) publisher \n",
        "8. Each publisher can publish one and many (0, N) books"
      ],
      "metadata": {
        "id": "NeASemZnrChI"
      }
    },
    {
      "cell_type": "markdown",
      "source": [
        "Description and correct mapping of contraints related to business rules\n",
        "\n",
        "The state of the library datatbase corresponds to the statuses of all its relations in a particular point in time \n",
        "\n",
        "The constraints are derived from the rules in the miniworld that the database represents \n",
        "\n",
        "Examples of constraints related to business rules\n",
        "\n",
        "1. Inherent model-based (or implicity) constraints: \n",
        "\n",
        "*   the tuples are ordered i.e. the order of data insertion must be maintained\n",
        "*   the tuples are heterogenous i.e. the tuples can consist of various data types \n",
        "*   each value in the tuple is atomic i.e. it is not divisible into components \n",
        "*   NULL values indicate either value unkown, value exists but is not available, or attribute does not apply to this tuple or value undefined\n",
        "\n",
        "2. Schema-based (or explicity) constraints: \n",
        "\n",
        "Entity integrity constraints: no primary key value can be NULL\n",
        "\n",
        "Primary Keys \n",
        "\n",
        "*   customers Table: Customer_ID\n",
        "*   authors Table: Author_ID \n",
        "*   publishers Table: Publisher_ID \n",
        "*   books Table: Book_ID \n",
        "*   loans Table: Loan_ID \n",
        "\n",
        "Referential integrity constaints: between two relations, used to maintain the consistency among tuples in two relations. a tuple in one relation that refers to another relation must refer to an existing tuple in that relation\n",
        "\n",
        "Foreign Keys: links the referencing relation to the referenced relation \n",
        "\n",
        "1. books Table: \n",
        "*   Author_ID in the books Table is a foriegn key refrencing Author_ID from the author Table\n",
        "*   Publisher_ID in the publishers Table is a foreign key referencing Publisher_ID from the publishers Table\n",
        "\n",
        "2. loans Table: \n",
        "*    Borrower_ID in the loans Table is a foreign key referencing Customer_ID in the customers Table\n",
        "*   Book_ID in the loans Table is a foreign key referencing Book_ID in the books Table\n",
        "\n",
        "3. Application-based (or semantic constraints): business rules that cannot be directly expressed in the schemas of the data model and must be enforced by the application programs \n",
        "\n",
        "these constraints are portrayed through the triggers created and are specific to the database of the miniworld\n",
        "\n",
        "example 1: before inserting a new customer into the customers table - a trigger is needed to check if the customer already exists \n",
        "\n",
        "example 2: before updating a row in the customers table - a trigger is needed to check if the customer_ID can be changed\n",
        "\n",
        "example 3: before deleting rows from the customers table - a trigger is needed to check for foreign key violations \n",
        "\n",
        "example 4: after deleting rows from the customer table - a trigger is needed to log the information about which customer was removed in the customers_log table "
      ],
      "metadata": {
        "id": "NU3zHpHu-vXN"
      }
    },
    {
      "cell_type": "markdown",
      "source": [
        "Choice of library and database connection"
      ],
      "metadata": {
        "id": "B1pfZDegGgob"
      }
    },
    {
      "cell_type": "code",
      "execution_count": 1,
      "metadata": {
        "id": "8GpwWKGs3bm8"
      },
      "outputs": [],
      "source": [
        "#connecting to database using Python\n",
        "#import sqlite3, pandas, os\n",
        "#ensures the notebook can be run multiple times without errors \n",
        "import sqlite3\n",
        "import pandas as pd \n",
        "import os \n",
        "\n",
        "#use the function connect to create an object conn\n",
        "#connect to the SQLite driver to manipulate the database library \n",
        "#creates database named library \n",
        "conn = sqlite3.connect('library.db')"
      ]
    },
    {
      "cell_type": "markdown",
      "source": [
        "Table creation and data loading, including relational constraints (PK, FK, NOT NULL)\n",
        "\n",
        "The data for the library miniworld database was created in Excel. A new excel workbook is used for each entity. The data for each attribute of that entity is manually entered in Excel with the columns representing attribute names and the rows having the relevant data. \n",
        "Each Excel file for each entity is saved as a CSV file with the table name.\n",
        "\n",
        "The CSV files are uploaded into Google Collab in the files section. Tables are created in Python by retrieving the data from the CSV files and are stored in library.db\n",
        "\n",
        "The tables are made SQL compatible using .to_sql\n",
        "\n",
        "Since the data was creating in CSV files, when library.db is downloaded and opened in DB browser for SQLite the constraints related to business rules are not directly displayed in the Database Structure Schema. However, for each table schema assume the following constraints:\n",
        "\n",
        "1. authors Table:\n",
        "\n",
        "Author_ID: PK, NOT NULL\n",
        "\n",
        "First_Name: NOT NULL \n",
        "\n",
        "Last_Name: NOT NULL \n",
        "\n",
        "2. books Table:\n",
        "\n",
        "Book_ID: PK, NOT NULL\n",
        "\n",
        "Title: NOT NULL\n",
        "\n",
        "Author_ID: NOT NULL, FK \n",
        "\n",
        "Publisher_ID: NOT NULL, FK\n",
        "\n",
        "ISBN_Number: NOT NULL\n",
        "\n",
        "Genre: no constraints \n",
        "\n",
        "3. customers Table:\n",
        "\n",
        "Customer_ID: PK, NOT NULL \n",
        "\n",
        "First_Name: NOT NULL \n",
        "\n",
        "Last_Name: NOT NULL \n",
        "\n",
        "Phone_Number: no constraints \n",
        "\n",
        "Email ID: no constraints \n",
        "\n",
        "Address: no constraints\n",
        "\n",
        "4. loans Table:\n",
        "\n",
        "Loan_ID: PK, NOT NULL \n",
        "\n",
        "Borrower_Date: NOT NULL \n",
        "\n",
        "Due_Date: NOT NULL\n",
        "\n",
        "Borrower_ID: NOT NULL, FK\n",
        "\n",
        "Book_ID: NOT NULL, FK\n",
        "\n",
        "Fine: NOT NULL \n",
        "\n",
        "5. publishers Table\n",
        "\n",
        "Publisher_ID: PK, NOT NULL\n",
        "\n",
        "Publisher_Name: NOT NULL\n",
        "\n",
        "Year_Published: NOT NULL\n"
      ],
      "metadata": {
        "id": "kD1wbvaIGouc"
      }
    },
    {
      "cell_type": "code",
      "source": [
        "#creating tables using Python \n",
        "#create the table using the data saved in CSV files \n",
        "#upload the CSV files to the Files folder on the left hand side toolbar \n",
        "#creates tables in the database - library.db \n",
        "customers = pd.read_csv('Customers.csv')\n",
        "books = pd.read_csv('Books.csv')\n",
        "authors = pd.read_csv('Authors.csv')\n",
        "publishers = pd.read_csv('Publishers.csv')\n",
        "loans = pd.read_csv('Loans.csv')"
      ],
      "metadata": {
        "id": "pPd99fBw3gF6"
      },
      "execution_count": 2,
      "outputs": []
    },
    {
      "cell_type": "code",
      "source": [
        "#write records in the DataFrame customers, books, authors, publishers, loans as tables to the databse library using the DataFrame method to_sql\n",
        "#index = False to ensure that the DataFrame row index is not written into the SQL tables \n",
        "#check if the database has been properly created by downloading the databsae from the Files folder \n",
        "#open the database in DB Browser for SQLite and browse the tables\n",
        "customers.to_sql('customers', con=conn, index = False)\n",
        "books.to_sql('books', con=conn, index = False)\n",
        "authors.to_sql('authors', con=conn, index = False)\n",
        "publishers.to_sql('publishers', con=conn, index = False)\n",
        "loans.to_sql('loans', con=conn, index = False)"
      ],
      "metadata": {
        "id": "Q28F4zAM3hfK"
      },
      "execution_count": 3,
      "outputs": []
    },
    {
      "cell_type": "code",
      "source": [
        "#manipulate databases using Python \n",
        "#create a cursor object c\n",
        "c = conn.cursor()\n",
        "#use execute and fetchall methods from sqlite3 to run SQL commands"
      ],
      "metadata": {
        "id": "Kh3iWn72YPTL"
      },
      "execution_count": 4,
      "outputs": []
    },
    {
      "cell_type": "code",
      "source": [
        "#retrieve all the tales in the database \n",
        "c.execute('''\n",
        "SELECT name \n",
        "    FROM sqlite_master \n",
        "  WHERE type = 'table'\n",
        "''')\n",
        "c.fetchall()"
      ],
      "metadata": {
        "colab": {
          "base_uri": "https://localhost:8080/"
        },
        "id": "gsZztJJXesou",
        "outputId": "28b5f869-cb41-40e3-f4f8-42821f8361b1"
      },
      "execution_count": 5,
      "outputs": [
        {
          "output_type": "execute_result",
          "data": {
            "text/plain": [
              "[('customers',), ('books',), ('authors',), ('publishers',), ('loans',)]"
            ]
          },
          "metadata": {},
          "execution_count": 5
        }
      ]
    },
    {
      "cell_type": "code",
      "source": [
        "#browse a table \n",
        "#example: customers\n",
        "c.execute(\"SELECT * FROM customers\").fetchall()"
      ],
      "metadata": {
        "colab": {
          "base_uri": "https://localhost:8080/"
        },
        "id": "dIyGs3eULXOj",
        "outputId": "1c2936fc-1669-4f9f-e414-4b270882cfe9"
      },
      "execution_count": 6,
      "outputs": [
        {
          "output_type": "execute_result",
          "data": {
            "text/plain": [
              "[(1,\n",
              "  'Sanskriti',\n",
              "  'Chandak',\n",
              "  6092161547,\n",
              "  'sanskritichandak@gmail.com',\n",
              "  '21 Babson College Drive, Wellesley, MA, 02481 '),\n",
              " (2,\n",
              "  'Saloni',\n",
              "  'Mathur',\n",
              "  8574104655,\n",
              "  'salonimathur@gmail.com',\n",
              "  '34 Tufts Lane, Medford, MA, 03471'),\n",
              " (3,\n",
              "  'Payal',\n",
              "  'Mahesh',\n",
              "  6179012914,\n",
              "  'payalmahesh@gmail.com',\n",
              "  '25 Richmond Lane, Back Bay, MA, 82375'),\n",
              " (4,\n",
              "  'Valerija',\n",
              "  'Ilievska',\n",
              "  3382130536,\n",
              "  'valerijailievska@gmail.com',\n",
              "  '56 Milton Drive, Waltham, MA, 38475'),\n",
              " (5,\n",
              "  'Anumita',\n",
              "  'Shringi',\n",
              "  4341928590,\n",
              "  'anumitashringi@gmail.com',\n",
              "  '76 Thayer Street, South End, MA, 73653'),\n",
              " (6,\n",
              "  'Shadman',\n",
              "  'Sakib',\n",
              "  7442915630,\n",
              "  'shadmansakib@gmail.com',\n",
              "  '23 Mattos Way, Newton, MA, 27465'),\n",
              " (7,\n",
              "  'Arnav',\n",
              "  'Kolli',\n",
              "  6032882287,\n",
              "  'arnavkolli@gmail.com',\n",
              "  '88 Amherst Street, Amherst, MA, 38575'),\n",
              " (8,\n",
              "  'Ameer',\n",
              "  'Himati',\n",
              "  8123278280,\n",
              "  'ameerhimati@gmail.com',\n",
              "  '45 Kelly Lane, Bloomington, MA 82745'),\n",
              " (9,\n",
              "  'Subhash',\n",
              "  'Chintalapati',\n",
              "  4703656908,\n",
              "  'subhashchintalapati@gmail.com',\n",
              "  '78 Oyster Way, Worcester, MA, 48295'),\n",
              " (10,\n",
              "  'Yamini',\n",
              "  'Yepuri',\n",
              "  4126367317,\n",
              "  'yaminiyepuri@gmail.com',\n",
              "  '37 Carnegie Lane, Camden, MA, 23857')]"
            ]
          },
          "metadata": {},
          "execution_count": 6
        }
      ]
    },
    {
      "cell_type": "markdown",
      "source": [
        "Views: Virtual tables desrived from base (physical) tables and used to map information from one or more base tables into personalized or restricted virtual tables \n",
        "*   Views are usually virtual and temporary tables\n",
        "*   Views can be materialized i.e. stored physically in the database\n",
        "\n",
        "Views can be built from different tables by projecting specific attributes and/or summarizing data from those tables \n",
        "\n",
        "Views can also be the result of a SQL command \n",
        "\n",
        "Views can be used as any other base table for queries and update commands \n",
        "\n",
        "Any modification in the base tables is automatically reflected in the view "
      ],
      "metadata": {
        "id": "FyxSPTVDMHlw"
      }
    },
    {
      "cell_type": "markdown",
      "source": [
        "View 1: create a view of loans that had fines associated with their borrowing in order of the highest to lowest fines \n",
        "\n",
        "Type of view: materialized/permanent view \n",
        "\n",
        "This view is being created as a permanent view to ensure that when library.db is downloaded and opened in applications such as DB Browser for SQLite, the view is visible and accessible\n",
        "\n",
        "Why each view if needed in the context of your chosen application: In the context of the library miniworld, this view is needed to retrieve information about customers who borrowed books and were fined for returning the book past the due date and/or damaging the book, etc. This filters out customers who returned the book on time and had no fines associated with the books they borrowed. This view allows us to examine the list of customers that need to pay/have paid fines for the loans they made. In addition, it allows us to view the books that were returned late or damaged. The descending order of the fines allows us to view the customers with the highest fines first\n",
        "\n",
        "Entities: loans, books \n",
        "\n",
        "Attributes: Loan_ID, Borrower_ID, Book_ID, Fine"
      ],
      "metadata": {
        "id": "MCwW5o77OR_A"
      }
    },
    {
      "cell_type": "code",
      "source": [
        "#View 1\n",
        "c.execute('''\n",
        "CREATE VIEW IF NOT EXISTS LoansWithFines AS\n",
        "SELECT L.Loan_ID, L.Borrower_ID, L.Book_ID, L.Fine\n",
        "FROM loans AS L\n",
        "JOIN books AS B ON L.Book_ID = B.Book_ID\n",
        "WHERE L.Fine IS NOT \"0\"\n",
        "ORDER BY L.Fine DESC\n",
        "''')\n",
        "c.fetchall()"
      ],
      "metadata": {
        "colab": {
          "base_uri": "https://localhost:8080/"
        },
        "id": "IinUZ7CLQxoL",
        "outputId": "dcc2403b-d9d1-4e6c-d4c9-30245a324f32"
      },
      "execution_count": 7,
      "outputs": [
        {
          "output_type": "execute_result",
          "data": {
            "text/plain": [
              "[]"
            ]
          },
          "metadata": {},
          "execution_count": 7
        }
      ]
    },
    {
      "cell_type": "markdown",
      "source": [
        "View 2: create a view of customers that borrowed books and their respective information\n",
        "\n",
        "Type of view: materialized/permanent view \n",
        "\n",
        "This view is being created as a permanent view to ensure that when library.db is downloaded and opened in applications such as DB Browser for SQLite, the view is visible and accessible\n",
        "\n",
        "Why each view if needed in the context of your chosen application: In the context of the library miniworld, this view is needed to retrieve information about customers that made loans from the library, i.e. borrowed books from the library. Since you can be a customer of the library but not have borrowed any books, this view filters out customers that have never borrowed books from the library. This view allowed us to examine the relevant customer information of those that have borrowed books. This information is useful for the library to know which of its customers use its services. \n",
        "\n",
        "Entities: customers, loans\n",
        "\n",
        "Attributes: Customer_ID, First_Name, Last_Name"
      ],
      "metadata": {
        "id": "EJX0VlZDP8sa"
      }
    },
    {
      "cell_type": "code",
      "source": [
        "#View 2\n",
        "c.execute('''\n",
        "CREATE VIEW IF NOT EXISTS Borrowers AS\n",
        "SELECT C.Customer_ID, C.First_Name, C.Last_Name\n",
        "FROM customers AS C, loans AS L \n",
        "WHERE C.Customer_ID = L.Borrower_ID\n",
        "GROUP BY C.Customer_ID\n",
        "''')\n",
        "c.fetchall()"
      ],
      "metadata": {
        "colab": {
          "base_uri": "https://localhost:8080/"
        },
        "id": "T5qTFxHl7Su8",
        "outputId": "7cc46142-4b65-4989-9297-21af7806562f"
      },
      "execution_count": 8,
      "outputs": [
        {
          "output_type": "execute_result",
          "data": {
            "text/plain": [
              "[]"
            ]
          },
          "metadata": {},
          "execution_count": 8
        }
      ]
    },
    {
      "cell_type": "markdown",
      "source": [
        "Triggers: specifies the type of action to be taken when certain events occur and when certain conditions are satisfied \n",
        "\n",
        "The trigger is defined by its name and is specified through the ECA rule \n",
        "\n",
        "Event(s): database update operations that must be specified BEFORE OR AFTER such operations \n",
        "\n",
        "Condition: whether the rule action should be executed. once the triggering event has occured, the condition is evaluated and only if it evaluted to TRUE, the rule action is executed \n",
        "\n",
        "Action: this describes the action to be taken in the form of a database transaction or stored procedure "
      ],
      "metadata": {
        "id": "Ii2fUzu5Rexg"
      }
    },
    {
      "cell_type": "markdown",
      "source": [
        "Creating Triggers \n",
        "\n",
        "Define a trigger name: unique name for the trigger \n",
        "\n",
        "The trigger inherits the scheme (attributes) of its table\n",
        "\n",
        "BEFORE, AFTER, INSTEAD OF: specifies whether the function is called before, after, or instead of an event\n",
        "\n",
        "Database-event: one of the INSERT, UPDATE, DELETE that will fire the trigger \n",
        "\n",
        "Table-name: the name of the table or view the trigger is for \n",
        "\n",
        "FOR EACH ROW/STATEMENT: specifies whether the trigger procedure should be fired once for every row affected by the trigger event, or just once per SQL statement. If neither is specified, FOR EACH STATEMENT is the default \n",
        "\n",
        "Expression: a Boolean expression that determines whether the trigger function will actually be executed \n",
        "\n",
        "Trigger-step: action for the trigger, it is in the SQL statement \n",
        "\n",
        "OLD and NEW keywords enable you to acess columns in the rows affected by a trigger within the trigger body \n",
        "\n",
        "INSERT trigger: NEW.col_name \n",
        "\n",
        "UPDATE trigger: OLD.col_name to refer to the columns of a row before it is updated\n",
        "\n",
        "UPDATE trigger: NEW.col_name to refer to the columns of the row after it is updated\n",
        "\n",
        "DELETE trigger: OLD.col_name"
      ],
      "metadata": {
        "id": "ZBLbz3EmT8xt"
      }
    },
    {
      "cell_type": "code",
      "source": [
        "#creating a log table to store any updates to the customers table \n",
        "#no major constraints in this table (i.e. primary keys, not null values, etc.)\n",
        "#only a foreign key pointing to customers\n",
        "c.execute('''\n",
        "CREATE TABLE customers_log (\n",
        "\tCust_ID INTEGER, \n",
        "\tFirst_Name TEXT, \n",
        "\tLast_Name TEXT, \n",
        "\tPhone_Number INTEGER,\n",
        "\tEdit_Time INTEGER, \n",
        "\tDescription TEXT\n",
        "\t/*CONSTRAINT fk_customers*/\n",
        "\t/*FOREIGN KEY(Cust_ID) REFERENCES customers(Customer_ID)*/\n",
        ");\n",
        "''')\n",
        "#foreign key to customers to ensure any log entry is related to an existing customer \n",
        "#commented out CONSTRAINT and FOREIGN KEY as it results in an error when testing triggers\n",
        "#however, the customers_log table is theoretically linked to the customers table based on the foreign key relationship with Cust_ID from customers_log referencing Customers_ID from customers\n",
        "c.fetchall"
      ],
      "metadata": {
        "colab": {
          "base_uri": "https://localhost:8080/"
        },
        "id": "qqFOTIIzAtgX",
        "outputId": "6ec681c1-0dd9-4455-90c7-8aa4cbc818f2"
      },
      "execution_count": 9,
      "outputs": [
        {
          "output_type": "execute_result",
          "data": {
            "text/plain": [
              "<function Cursor.fetchall>"
            ]
          },
          "metadata": {},
          "execution_count": 9
        }
      ]
    },
    {
      "cell_type": "code",
      "source": [
        "#Trigger 1\n",
        "#AFTER INSERT \n",
        "#Actions to be taken after inserting rows in the customers table\n",
        "c.execute('''\n",
        "CREATE TRIGGER aft_insert AFTER INSERT ON customers \n",
        "BEGIN \n",
        "/*log information about a new customer*/\n",
        "\tINSERT INTO customers_log(Cust_ID, First_Name, Last_Name, Phone_Number, Edit_Time, Description)\n",
        "\tVALUES(NEW.Customer_ID, NEW.First_Name, NEW.Last_Name, NEW.Phone_Number, current_date, \"New Customer\");\n",
        "END; \n",
        "''')\n",
        "c.fetchall"
      ],
      "metadata": {
        "colab": {
          "base_uri": "https://localhost:8080/"
        },
        "id": "LUAzO3Zeg8cu",
        "outputId": "994daf49-3633-4d6d-eaea-f2d1ae082fd3"
      },
      "execution_count": 10,
      "outputs": [
        {
          "output_type": "execute_result",
          "data": {
            "text/plain": [
              "<function Cursor.fetchall>"
            ]
          },
          "metadata": {},
          "execution_count": 10
        }
      ]
    },
    {
      "cell_type": "code",
      "source": [
        "#Testing trigger 1\n",
        "c.execute('''\n",
        "INSERT INTO customers\n",
        "VALUES(11, 'Adam', 'Fazal', 8439849381, 'adamfazal@gmail.com', '54 Cambridge Way, Cambridge, MA, 04859');\n",
        "''')\n",
        "c.fetchall"
      ],
      "metadata": {
        "colab": {
          "base_uri": "https://localhost:8080/"
        },
        "id": "XfltNWZZhEIU",
        "outputId": "b6db43e6-6979-4ecc-88f8-ac445ad2fac8"
      },
      "execution_count": 11,
      "outputs": [
        {
          "output_type": "execute_result",
          "data": {
            "text/plain": [
              "<function Cursor.fetchall>"
            ]
          },
          "metadata": {},
          "execution_count": 11
        }
      ]
    },
    {
      "cell_type": "code",
      "source": [
        "#Trigger 2 \n",
        "#BEFORE INSERT\n",
        "#Actions to be taken before inserting a row into the customers table\n",
        "c.execute('''\n",
        "CREATE TRIGGER bef_insert BEFORE INSERT ON customers\n",
        "BEGIN\n",
        "/*Check if customer exists*/\n",
        "\tSELECT CASE \n",
        "\tWHEN ((SELECT customers.Customer_ID FROM customers WHERE customers.Customer_ID = NEW.Customer_ID) IS NOT NULL)\n",
        "\tTHEN RAISE(FAIL, 'ERROR: This Customer_ID does exist.')\n",
        "END;\n",
        "END;\n",
        "''')\n",
        "c.fetchall\n"
      ],
      "metadata": {
        "colab": {
          "base_uri": "https://localhost:8080/"
        },
        "id": "cQBadYCnhIQ7",
        "outputId": "d5f6b3ac-de00-487a-9900-cac47119ae97"
      },
      "execution_count": 12,
      "outputs": [
        {
          "output_type": "execute_result",
          "data": {
            "text/plain": [
              "<function Cursor.fetchall>"
            ]
          },
          "metadata": {},
          "execution_count": 12
        }
      ]
    },
    {
      "cell_type": "code",
      "source": [
        "#Testing trigger 2\n",
        "c.execute('''\n",
        "INSERT INTO customers(Customer_ID, First_Name, Last_Name, Phone_Number, Email_ID, Address) values(12, 'Rohan', 'Samala', 8375932859, 'rohansamala@gmail.com', '56 Carolina Lane, Raleigh, MA, 82475');\n",
        "''')\n",
        "c.fetchall\n"
      ],
      "metadata": {
        "colab": {
          "base_uri": "https://localhost:8080/"
        },
        "id": "uKv6snd0hOuL",
        "outputId": "67a1a0ad-ff81-4646-bafe-e95ac96d6222"
      },
      "execution_count": 13,
      "outputs": [
        {
          "output_type": "execute_result",
          "data": {
            "text/plain": [
              "<function Cursor.fetchall>"
            ]
          },
          "metadata": {},
          "execution_count": 13
        }
      ]
    },
    {
      "cell_type": "code",
      "source": [
        "#Trigger 3 \n",
        "#AFTER UPDATE \n",
        "#Actions to be taken after updating rows in the customers table\n",
        "c.execute('''\n",
        "CREATE TRIGGER aft_update AFTER UPDATE ON customers \n",
        "BEGIN \n",
        "/*log information about a new phone number*/\n",
        "\tINSERT INTO customers_log(Cust_ID, First_Name, Last_Name, Phone_Number, Edit_Time, Description)\n",
        "\tVALUES(OLD.Customer_ID, OLD.First_Name, OLD.Last_Name, NEW.Phone_Number, current_date, 'Update Phone_Number from '|| OLD.Phone_Number || 'to' || NEW.Phone_Number);\n",
        "END; \n",
        "''')\n",
        "c.fetchall"
      ],
      "metadata": {
        "colab": {
          "base_uri": "https://localhost:8080/"
        },
        "id": "IGZuFxlThTeW",
        "outputId": "c237203f-1b07-47ad-87f7-389956a5892a"
      },
      "execution_count": 14,
      "outputs": [
        {
          "output_type": "execute_result",
          "data": {
            "text/plain": [
              "<function Cursor.fetchall>"
            ]
          },
          "metadata": {},
          "execution_count": 14
        }
      ]
    },
    {
      "cell_type": "code",
      "source": [
        "#Testing trigger 3\n",
        "c.execute('''\n",
        "UPDATE customers SET Phone_Number = '9827374839' WHERE Customer_ID = 9;\n",
        "''')\n",
        "c.fetchall"
      ],
      "metadata": {
        "colab": {
          "base_uri": "https://localhost:8080/"
        },
        "id": "9Y_Jqae5hX_1",
        "outputId": "6ff00573-f95a-4423-8131-297fef4dd18a"
      },
      "execution_count": 15,
      "outputs": [
        {
          "output_type": "execute_result",
          "data": {
            "text/plain": [
              "<function Cursor.fetchall>"
            ]
          },
          "metadata": {},
          "execution_count": 15
        }
      ]
    },
    {
      "cell_type": "code",
      "source": [
        "#Trigger 4\n",
        "#BEFORE UPDATE\n",
        "#Actions to be taken before updating a row in the customers table\n",
        "c.execute('''\n",
        "CREATE TRIGGER bef_update BEFORE UPDATE ON customers \n",
        "BEGIN\n",
        "/*Check if the Customer_ID can be changed*/\n",
        "\tSELECT CASE \n",
        "\tWHEN ((SELECT customers.Customer_ID from customers WHERE customers.Customer_ID = NEW.Customer_ID) IS NOT NULL)\n",
        "\tTHEN RAISE(FAIL, 'ERROR: This employee_id can not be udpated.')\n",
        "END;\n",
        "END;\n",
        "''')\n",
        "c.fetchall"
      ],
      "metadata": {
        "colab": {
          "base_uri": "https://localhost:8080/"
        },
        "id": "v6zqV1rnhbba",
        "outputId": "5c30dcaa-b03f-41cf-b6b1-6ca61eb2323b"
      },
      "execution_count": 16,
      "outputs": [
        {
          "output_type": "execute_result",
          "data": {
            "text/plain": [
              "<function Cursor.fetchall>"
            ]
          },
          "metadata": {},
          "execution_count": 16
        }
      ]
    },
    {
      "cell_type": "code",
      "source": [
        "#Testing trigger 4\n",
        "c.execute('''\n",
        "UPDATE customers SET Customer_ID = 13 WHERE Last_Name = \"Kolli\";\n",
        "''')\n",
        "c.fetchall"
      ],
      "metadata": {
        "colab": {
          "base_uri": "https://localhost:8080/"
        },
        "id": "q_YD3DKrhe7E",
        "outputId": "4dc8117b-9c6a-4560-88de-28a731d5ba36"
      },
      "execution_count": 17,
      "outputs": [
        {
          "output_type": "execute_result",
          "data": {
            "text/plain": [
              "<function Cursor.fetchall>"
            ]
          },
          "metadata": {},
          "execution_count": 17
        }
      ]
    },
    {
      "cell_type": "code",
      "source": [
        "#Trigger 5 \n",
        "#AFTER DELETE\n",
        "#Actions to be taken after deleting rows from the customers table\n",
        "c.execute('''\n",
        "CREATE TRIGGER aft_delete AFTER DELETE ON customers \n",
        "BEGIN \n",
        "/*log the information about which customer was removed*/\t\n",
        "\tINSERT INTO customers_log(Cust_ID, First_Name, Last_Name, Phone_Number, description)\n",
        "\tVALUES(OLD.Customer_ID, OLD.First_Name, OLD.Last_Name, OLD.Phone_Number, 'Deleted on ' || date('NOW'));\n",
        "END;\n",
        "''')\n",
        "c.fetchall"
      ],
      "metadata": {
        "colab": {
          "base_uri": "https://localhost:8080/"
        },
        "id": "m5-AObuHhi7u",
        "outputId": "c1e80249-684d-49ae-90bf-4176f0123b50"
      },
      "execution_count": 18,
      "outputs": [
        {
          "output_type": "execute_result",
          "data": {
            "text/plain": [
              "<function Cursor.fetchall>"
            ]
          },
          "metadata": {},
          "execution_count": 18
        }
      ]
    },
    {
      "cell_type": "code",
      "source": [
        "#Testing trigger 5 \n",
        "c.execute('''\n",
        "DELETE FROM customers WHERE Customer_ID = 5;\n",
        "''')\n",
        "c.fetchall"
      ],
      "metadata": {
        "colab": {
          "base_uri": "https://localhost:8080/"
        },
        "id": "T1qmBvBYhl_5",
        "outputId": "5874aacd-6417-4e69-ce5c-193c6a60a91f"
      },
      "execution_count": 19,
      "outputs": [
        {
          "output_type": "execute_result",
          "data": {
            "text/plain": [
              "<function Cursor.fetchall>"
            ]
          },
          "metadata": {},
          "execution_count": 19
        }
      ]
    },
    {
      "cell_type": "code",
      "source": [
        "#Trigger 6 \n",
        "#BEFORE DELETE\n",
        "#Actions to be taken before deleting rows from customers_log table\n",
        "c.execute('''\n",
        "CREATE TRIGGER bef_delete BEFORE DELETE ON customers_log\n",
        "BEGIN \n",
        "/*Check for foreign key violation*/\n",
        "\tSELECT CASE \n",
        "\tWHEN (SELECT COUNT(Customer_ID) FROM customers where Customer_ID = OLD.Cust_ID) >0 \n",
        "\tTHEN RAISE(FAIL, 'ERROR: Foreign Key Violation: Customers_ID rows reference row to be deleted.')\n",
        "END;\n",
        "END;\n",
        "''')\n",
        "c.fetchall"
      ],
      "metadata": {
        "colab": {
          "base_uri": "https://localhost:8080/"
        },
        "id": "WOG7Wbh2hokW",
        "outputId": "55a138c6-5e3d-47aa-d38f-a59a4bdc02d0"
      },
      "execution_count": 20,
      "outputs": [
        {
          "output_type": "execute_result",
          "data": {
            "text/plain": [
              "<function Cursor.fetchall>"
            ]
          },
          "metadata": {},
          "execution_count": 20
        }
      ]
    },
    {
      "cell_type": "code",
      "source": [
        "#Testing trigger 6\n",
        "c.execute('''\n",
        "DELETE FROM customers_log WHERE Cust_ID = 11;\n",
        "''')\n",
        "c.fetchall\n",
        "\n",
        "#This trigger raises an error because it is trying to delete a customer row from customers_log when it still exists in the customers table \n",
        "#The row in customers where customer_ID is equal to 11 has not been deleted yet\n",
        "#Therefore it cannot be deleted from customers_log since Cust_ID in customers_log is a foreign key that references Customer_ID in the customers table\n",
        "#This is a foreign key violation therefore, it raises the apprropriate error"
      ],
      "metadata": {
        "colab": {
          "base_uri": "https://localhost:8080/",
          "height": 235
        },
        "id": "q_nxHry2hr-8",
        "outputId": "45542e55-24a8-4b28-f85c-cbb4cfbd4236"
      },
      "execution_count": 21,
      "outputs": [
        {
          "output_type": "error",
          "ename": "IntegrityError",
          "evalue": "ignored",
          "traceback": [
            "\u001b[0;31m---------------------------------------------------------------------------\u001b[0m",
            "\u001b[0;31mIntegrityError\u001b[0m                            Traceback (most recent call last)",
            "\u001b[0;32m<ipython-input-21-37781bd846a3>\u001b[0m in \u001b[0;36m<module>\u001b[0;34m\u001b[0m\n\u001b[1;32m      1\u001b[0m \u001b[0;31m#Testing trigger 6\u001b[0m\u001b[0;34m\u001b[0m\u001b[0;34m\u001b[0m\u001b[0;34m\u001b[0m\u001b[0m\n\u001b[0;32m----> 2\u001b[0;31m c.execute('''\n\u001b[0m\u001b[1;32m      3\u001b[0m \u001b[0mDELETE\u001b[0m \u001b[0mFROM\u001b[0m \u001b[0mcustomers_log\u001b[0m \u001b[0mWHERE\u001b[0m \u001b[0mCust_ID\u001b[0m \u001b[0;34m=\u001b[0m \u001b[0;36m11\u001b[0m\u001b[0;34m;\u001b[0m\u001b[0;34m\u001b[0m\u001b[0;34m\u001b[0m\u001b[0m\n\u001b[1;32m      4\u001b[0m ''')\n\u001b[1;32m      5\u001b[0m \u001b[0mc\u001b[0m\u001b[0;34m.\u001b[0m\u001b[0mfetchall\u001b[0m\u001b[0;34m\u001b[0m\u001b[0;34m\u001b[0m\u001b[0m\n",
            "\u001b[0;31mIntegrityError\u001b[0m: ERROR: Foreign Key Violation: Customers_ID rows reference row to be deleted."
          ]
        }
      ]
    },
    {
      "cell_type": "markdown",
      "source": [
        "SQL Queries: Used to query data from the library database"
      ],
      "metadata": {
        "id": "BWKSZaP0Xemw"
      }
    },
    {
      "cell_type": "code",
      "source": [
        "#SQL Query 1: List all the books that were borrowed by customers and the number of times each book was borrowed in the order of most borrowed to least borrowed\n",
        "c.execute('''\n",
        "SELECT B.Title, B.Author_ID, B.ISBN_Number, COUNT(L.Book_ID) \n",
        "FROM books AS B, loans AS L\n",
        "WHERE B.Book_ID = L.Book_ID\n",
        "GROUP BY B.Book_ID \n",
        "ORDER BY COUNT(L.Book_ID) DESC\n",
        "''').fetchall()"
      ],
      "metadata": {
        "colab": {
          "base_uri": "https://localhost:8080/"
        },
        "id": "oXtN5ICJ7ubJ",
        "outputId": "cc57895c-0b61-4517-c9f7-ddd6dc1c7e93"
      },
      "execution_count": 22,
      "outputs": [
        {
          "output_type": "execute_result",
          "data": {
            "text/plain": [
              "[('Tamas', 7, 9790000000000.0, 3),\n",
              " ('Things Fall Apart', 3, 9780000000000.0, 2),\n",
              " ('The Beautiful and Dammed ', 1, 9780000000000.0, 2),\n",
              " ('The Catcher in the Rye', 10, 9780000000000.0, 2),\n",
              " ('Lord of the Flies ', 14, 9780000000000.0, 2),\n",
              " ('The Color Purple ', 11, 9780000000000.0, 2),\n",
              " ('To Kill a Mockingbird', 4, 9780000000000.0, 1),\n",
              " ('The Great Gatsby', 1, 9780000000000.0, 1),\n",
              " ('A Tale of Two Cities', 6, 9780000000000.0, 1),\n",
              " ('Little Women', 8, 9780000000000.0, 1),\n",
              " ('Pride and Prejudice', 9, 9780000000000.0, 1),\n",
              " ('Kite Runner', 2, 9780000000000.0, 1),\n",
              " ('Animal Farm ', 12, 9780000000000.0, 1)]"
            ]
          },
          "metadata": {},
          "execution_count": 22
        }
      ]
    },
    {
      "cell_type": "code",
      "source": [
        "#SQL Query 2: Create a list of the loans that had no fines and the respective information about the book borrowed and customer details\n",
        "c.execute('''\n",
        "SELECT L.Loan_ID, BR.Customer_ID, BR.First_Name, BR.Last_Name, L.Book_ID\n",
        "FROM Borrowers AS BR, loans AS L\n",
        "WHERE L.Borrower_ID = BR.Customer_ID AND L.Fine = \"0\"\n",
        "''').fetchall()"
      ],
      "metadata": {
        "colab": {
          "base_uri": "https://localhost:8080/"
        },
        "id": "sngqtQ8J8A3p",
        "outputId": "4e2df3b4-bedf-43c5-83b7-812a559dc76c"
      },
      "execution_count": 23,
      "outputs": [
        {
          "output_type": "execute_result",
          "data": {
            "text/plain": [
              "[(3, 6, 'Shadman', 'Sakib', 6),\n",
              " (5, 1, 'Sanskriti', 'Chandak', 1),\n",
              " (9, 10, 'Yamini', 'Yepuri', 5),\n",
              " (11, 2, 'Saloni', 'Mathur', 11),\n",
              " (14, 10, 'Yamini', 'Yepuri', 12),\n",
              " (16, 6, 'Shadman', 'Sakib', 15),\n",
              " (18, 2, 'Saloni', 'Mathur', 11)]"
            ]
          },
          "metadata": {},
          "execution_count": 23
        }
      ]
    },
    {
      "cell_type": "code",
      "source": [
        "#SQL Query 3: List the total amount of fines for each customer from highest to lowest \n",
        "c.execute('''\n",
        "SELECT C.Customer_ID, C.First_Name, C.Last_Name, SUM(LWF.Fine)\n",
        "FROM customers AS C, LoansWithFines AS LWF\n",
        "WHERE C.Customer_ID = LWF.Borrower_ID\n",
        "GROUP BY LWF.Borrower_ID\n",
        "ORDER BY LWF.Fine DESC\n",
        "''').fetchall()"
      ],
      "metadata": {
        "colab": {
          "base_uri": "https://localhost:8080/"
        },
        "id": "hOFpvJ9-8YDp",
        "outputId": "0820c446-6d00-43c4-87a3-d4557c04730e"
      },
      "execution_count": 24,
      "outputs": [
        {
          "output_type": "execute_result",
          "data": {
            "text/plain": [
              "[(1, 'Sanskriti', 'Chandak', 65),\n",
              " (3, 'Payal', 'Mahesh', 60),\n",
              " (2, 'Saloni', 'Mathur', 45),\n",
              " (10, 'Yamini', 'Yepuri', 35)]"
            ]
          },
          "metadata": {},
          "execution_count": 24
        }
      ]
    },
    {
      "cell_type": "code",
      "source": [
        "#SQL Query 4: List the books in order of most recently published\n",
        "c.execute('''\n",
        "SELECT P.Publisher_ID, B.Title, B.Author_ID, P.Year_Published\n",
        "FROM books AS B, publishers AS P\n",
        "WHERE P.Publisher_ID = B.Publisher_ID\n",
        "ORDER BY P.Year_Published DESC\n",
        "''').fetchall()"
      ],
      "metadata": {
        "colab": {
          "base_uri": "https://localhost:8080/"
        },
        "id": "1qdRVdVO8uOT",
        "outputId": "0acb719d-bbc2-4b5b-c68d-d698eda9a299"
      },
      "execution_count": 25,
      "outputs": [
        {
          "output_type": "execute_result",
          "data": {
            "text/plain": [
              "[(11, 'The Color Purple ', 11, 1982),\n",
              " (9, 'Tamas', 7, 1973),\n",
              " (4, 'To Kill a Mockingbird', 4, 1960),\n",
              " (8, 'Things Fall Apart', 3, 1958),\n",
              " (7, 'Lord of the Rings', 5, 1954),\n",
              " (14, 'Lord of the Flies ', 14, 1954),\n",
              " (13, 'The Catcher in the Rye', 10, 1951),\n",
              " (12, 'Animal Farm ', 12, 1945),\n",
              " (5, 'The Great Gatsby', 1, 1925),\n",
              " (6, 'The Beautiful and Dammed ', 1, 1922),\n",
              " (10, 'Little Women', 8, 1868),\n",
              " (2, 'A Tale of Two Cities', 6, 1859),\n",
              " (2, 'Kite Runner', 2, 1859),\n",
              " (1, 'Pride and Prejudice', 9, 1813),\n",
              " (15, 'Hamlet ', 13, 1603)]"
            ]
          },
          "metadata": {},
          "execution_count": 25
        }
      ]
    },
    {
      "cell_type": "code",
      "source": [
        "#SQL Query 5: List the authors in order of the number of books the library has by that author\n",
        "c.execute('''\n",
        "SELECT A.Author_ID, A.First_Name, A.Last_Name, COUNT(A.Author_ID) \n",
        "FROM authors AS A \n",
        "INNER JOIN books AS B ON B.Author_ID = A.Author_ID\n",
        "GROUP BY A.Author_ID\n",
        "''').fetchall()"
      ],
      "metadata": {
        "colab": {
          "base_uri": "https://localhost:8080/"
        },
        "id": "PucXYH1o-fvC",
        "outputId": "ccd60e27-82ac-4bb3-a8e6-2afa944dfb30"
      },
      "execution_count": 26,
      "outputs": [
        {
          "output_type": "execute_result",
          "data": {
            "text/plain": [
              "[(1, 'F. Scott', 'Fitzgerald', 2),\n",
              " (2, 'Khaled', 'Hosseini', 1),\n",
              " (3, 'Bisham', 'Sahni', 1),\n",
              " (4, 'Harper', 'Lee', 1),\n",
              " (5, 'J. R. R.', 'Tolkien', 1),\n",
              " (6, 'Charles', 'Dickens', 1),\n",
              " (7, 'Chinua', 'Achebe', 1),\n",
              " (8, 'Louisa', 'Alcott', 1),\n",
              " (9, 'Jane', 'Austen', 1),\n",
              " (10, 'J.D.', 'Salinger ', 1),\n",
              " (11, 'Alice', 'Walker', 1),\n",
              " (12, 'George', 'Orwell ', 1),\n",
              " (13, 'William', 'Shakespeare', 1),\n",
              " (14, 'William', 'Golding', 1)]"
            ]
          },
          "metadata": {},
          "execution_count": 26
        }
      ]
    },
    {
      "cell_type": "code",
      "source": [
        "#close the connection \n",
        "conn.close()"
      ],
      "metadata": {
        "id": "LIZOWBS0O_1a"
      },
      "execution_count": 27,
      "outputs": []
    }
  ]
}